{
 "cells": [
  {
   "cell_type": "code",
   "execution_count": 27,
   "metadata": {},
   "outputs": [
    {
     "name": "stdout",
     "output_type": "stream",
     "text": [
      "defaultdict(<function <lambda> at 0x00000250B1843DC8>, {2: [0, 1]})\n"
     ]
    }
   ],
   "source": [
    "document = [\"x\", 2, \"y\", \"x\"]\n",
    "word_counts = {}\n",
    "for word in document:\n",
    "    if word in word_counts:\n",
    "        word_counts[word] += 1\n",
    "    else:\n",
    "        word_counts[word] = 1\n",
    "        \n",
    "\n",
    "from collections import defaultdict\n",
    "word_counts = defaultdict(int) #int generuje wartosc 0\n",
    "for word in document:\n",
    "    word_counts[word] += 1\n",
    "\n",
    "dd_list = defaultdict(list) #funkcja list() generuje pusta liste\n",
    "dd_list[2].append(1) #dd_list zawiera {2: [1]}\n",
    "\n",
    "dd_dict = defaultdict(dict) #funkcja dict() generuje pusty słownik\n",
    "dd_dict[\"Joel\"][\"City\"] = \"Seattle\"\n",
    "\n",
    "dd_pair = defaultdict(lambda: [0, 0])\n",
    "dd_pair[2][1] = 1\n",
    "\n",
    "print(dd_pair)"
   ]
  },
  {
   "cell_type": "code",
   "execution_count": 28,
   "metadata": {},
   "outputs": [
    {
     "name": "stdout",
     "output_type": "stream",
     "text": [
      "Counter({0: 2, 1: 1, 2: 1})\n",
      "Counter({'x': 2, 2: 1, 'y': 1})\n",
      "x 2\n",
      "2 1\n",
      "y 1\n"
     ]
    }
   ],
   "source": [
    "#funkcja Counter (do tworzenia histogramów)\n",
    "from collections import Counter\n",
    "c = Counter([0, 1, 2, 0])\n",
    "print(c)\n",
    "\n",
    "word_counts = Counter(document)\n",
    "print(word_counts)\n",
    "\n",
    "#wyświetl 10 najczęściej występujących słów i podaj liczbę ich wystąpień\n",
    "for word, count in word_counts.most_common(10):\n",
    "    print(word,count)"
   ]
  },
  {
   "cell_type": "code",
   "execution_count": 38,
   "metadata": {},
   "outputs": [
    {
     "name": "stdout",
     "output_type": "stream",
     "text": [
      "{1, 2}\n",
      "2 True False\n",
      "['a', 'an', 'at', 'yet', 'you']\n",
      "3\n"
     ]
    }
   ],
   "source": [
    "#Zbiory (set)\n",
    "\n",
    "s = set()\n",
    "s.add(1)\n",
    "s.add(2)\n",
    "s.add(2)\n",
    "print(s)\n",
    "x = len(s)\n",
    "y = 2 in s\n",
    "z = 3 in s\n",
    "print(x,y,z)\n",
    "\n",
    "hundreads_of_other_words = []\n",
    "stopwords_list = [\"a\", \"an\", \"at\"] + hundreads_of_other_words + [\"yet\", \"you\"]\n",
    "print(stopwords_list)\n",
    "\"zip\" in stopwords_list\n",
    "\n",
    "item_list = [1, 2, 3, 1, 2, 3]\n",
    "num_items = len(item_list)\n",
    "item_set = set(item_list)\n",
    "num_distinct_items = len(item_set)\n",
    "distinct_item_list = list(item_set)\n",
    "print(num_distinct_items)\n"
   ]
  },
  {
   "cell_type": "code",
   "execution_count": 50,
   "metadata": {},
   "outputs": [
    {
     "name": "stdout",
     "output_type": "stream",
     "text": [
      "[4, 1, 2, 3] [1, 2, 3, 4]\n",
      "[1, 2, 3, 4]\n",
      "[-4, 3, -2, 1]\n"
     ]
    }
   ],
   "source": [
    "#sortowanie\n",
    "x = [4,1,2,3]\n",
    "y = sorted(x)\n",
    "print(x,y)\n",
    "#reverse = False\n",
    "x.sort()\n",
    "print(x)\n",
    "\n",
    "x = sorted([-4,1,-2,3], key=abs, reverse=True)\n",
    "print(x)\n",
    "    "
   ]
  },
  {
   "cell_type": "code",
   "execution_count": 57,
   "metadata": {},
   "outputs": [],
   "source": [
    "#Generatory\n",
    "\n",
    "def lazy_range(n):\n",
    "    '''Prostsza wersja funkcji range'''\n",
    "    i = 0\n",
    "    #n = -100\n",
    "    while i < n:\n",
    "        yield(i)\n",
    "        i += 1\n",
    "        print(i)"
   ]
  },
  {
   "cell_type": "code",
   "execution_count": 79,
   "metadata": {},
   "outputs": [
    {
     "name": "stdout",
     "output_type": "stream",
     "text": [
      "[0.32777281162209315, 0.24999667668640035, 0.9528169091459117, 0.9965569925394552]\n",
      "0.5714025946899135\n",
      "0.5714025946899135\n",
      "1\n",
      "Alice\n",
      "[29, 52, 31, 58, 17, 41]\n",
      "[2, 0, 8, 7]\n"
     ]
    }
   ],
   "source": [
    "#Losowość\n",
    "\n",
    "import random\n",
    "four_uniform_randoms = [random.random() for _ in range(4)]\n",
    "print(four_uniform_randoms)\n",
    "\n",
    "random.seed(10)\n",
    "print(random.random())\n",
    "random.seed(10)\n",
    "print(random.random())\n",
    "\n",
    "random.randrange(10)\n",
    "random.randrange(3, 6)\n",
    "print(random.randrange(1,5))\n",
    "\n",
    "#up_to_ten = range(10)\n",
    "#random.shuffle(up_to_ten)\n",
    "#print(up_to_ten)\n",
    "\n",
    "my_best_friend = random.choice([\"Alice\", \"Bob\", \"Charlie\"])\n",
    "print(my_best_friend)\n",
    "\n",
    "lottery_numbers = range(60)\n",
    "winning_numbers = random.sample(lottery_numbers, 6)\n",
    "print(winning_numbers)\n",
    "\n",
    "four_with_replacement = [random.choice(range(10)) for _ in range(4)]\n",
    "print(four_with_replacement)"
   ]
  },
  {
   "cell_type": "code",
   "execution_count": 80,
   "metadata": {},
   "outputs": [
    {
     "ename": "SyntaxError",
     "evalue": "invalid syntax (<ipython-input-80-16eba12e92b0>, line 2)",
     "output_type": "error",
     "traceback": [
      "\u001b[1;36m  File \u001b[1;32m\"<ipython-input-80-16eba12e92b0>\"\u001b[1;36m, line \u001b[1;32m2\u001b[0m\n\u001b[1;33m    print all([not re.match(\"a\", \"cat\"),\u001b[0m\n\u001b[1;37m            ^\u001b[0m\n\u001b[1;31mSyntaxError\u001b[0m\u001b[1;31m:\u001b[0m invalid syntax\n"
     ]
    }
   ],
   "source": [
    "def exp(base, power):\n",
    "    return base ** power\n"
   ]
  },
  {
   "cell_type": "code",
   "execution_count": null,
   "metadata": {},
   "outputs": [],
   "source": [
    "\n"
   ]
  }
 ],
 "metadata": {
  "kernelspec": {
   "display_name": "Python 3",
   "language": "python",
   "name": "python3"
  },
  "language_info": {
   "codemirror_mode": {
    "name": "ipython",
    "version": 3
   },
   "file_extension": ".py",
   "mimetype": "text/x-python",
   "name": "python",
   "nbconvert_exporter": "python",
   "pygments_lexer": "ipython3",
   "version": "3.7.4"
  }
 },
 "nbformat": 4,
 "nbformat_minor": 2
}
